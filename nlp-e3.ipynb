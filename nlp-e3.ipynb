{
 "cells": [
  {
   "cell_type": "code",
   "execution_count": 1,
   "metadata": {},
   "outputs": [],
   "source": [
    "# imports\n",
    "import datasets\n",
    "from collections import Counter"
   ]
  },
  {
   "cell_type": "code",
   "execution_count": 2,
   "metadata": {},
   "outputs": [],
   "source": [
    "# disable progress bar to simplify printing\n",
    "datasets.disable_progress_bar()"
   ]
  },
  {
   "cell_type": "code",
   "execution_count": 3,
   "metadata": {},
   "outputs": [],
   "source": [
    "# create function that prints information about a dataframe\n",
    "def print_dataset_information(dataset_string):\n",
    "    dataset = datasets.load_dataset(dataset_string, trust_remote_code=True)\n",
    "    builder = datasets.load_dataset_builder(dataset_string, trust_remote_code=True)\n",
    "\n",
    "    # print description\n",
    "    print(builder.info.description)\n",
    "\n",
    "    #calculate and print split percentages\n",
    "    train_rows = len(dataset['train'])\n",
    "    test_rows = len(dataset['test'])\n",
    "    try:\n",
    "        validation_rows = len(dataset['validation'])\n",
    "        all_rows = train_rows+validation_rows+test_rows\n",
    "        validation_split = validation_rows/all_rows*100\n",
    "        train_split = train_rows/all_rows*100\n",
    "        test_split = test_rows/all_rows*100\n",
    "        print(f\"The split percentages of the datasets:\\n\\nTrain: {round(train_split, 2)}%\\nValidation: {round(validation_split, 2)}%\\nTest: {round(test_split, 2)}%\")\n",
    "    except:\n",
    "        all_rows = train_rows+test_rows\n",
    "        train_split = train_rows/all_rows*100\n",
    "        test_split = test_rows/all_rows*100\n",
    "        print(f\"The split percentages of the datasets:\\n\\nTrain: {round(train_split, 2)}%\\nTest: {round(test_split, 2)}%\")\n",
    "\n",
    "    # count distribution of labels\n",
    "    label_names = dataset['train'].features[\"label\"].names\n",
    "    labels = dataset['train'][\"label\"]\n",
    "    all_labels = len(labels)\n",
    "    \n",
    "    counts = Counter(labels)\n",
    "\n",
    "    print(\"\\nThe distribution of labels in training data:\\n\")\n",
    "    for i in range(len(label_names)):\n",
    "        print(f\"{label_names[i]}: {round(counts[i]/all_labels*100, 2)}%\")\n",
    "\n",
    "    print(\"\\n------------------\\n\")\n"
   ]
  },
  {
   "cell_type": "code",
   "execution_count": 4,
   "metadata": {},
   "outputs": [
    {
     "name": "stdout",
     "output_type": "stream",
     "text": [
      "Emotion is a dataset of English Twitter messages with six basic emotions: anger, fear, joy, love, sadness, and surprise. For more detailed information please refer to the paper.\n",
      "\n",
      "The split percentages of the datasets:\n",
      "\n",
      "Train: 80.0%\n",
      "Validation: 10.0%\n",
      "Test: 10.0%\n",
      "\n",
      "The distribution of labels in training data:\n",
      "\n",
      "sadness: 29.16%\n",
      "joy: 33.51%\n",
      "love: 8.15%\n",
      "anger: 13.49%\n",
      "fear: 12.11%\n",
      "surprise: 3.57%\n",
      "\n",
      "------------------\n",
      "\n",
      "\n",
      "The split percentages of the datasets:\n",
      "\n",
      "Train: 80.0%\n",
      "Validation: 10.0%\n",
      "Test: 10.0%\n",
      "\n",
      "The distribution of labels in training data:\n",
      "\n",
      "neg: 50.0%\n",
      "pos: 50.0%\n",
      "\n",
      "------------------\n",
      "\n",
      "\n",
      "The split percentages of the datasets:\n",
      "\n",
      "Train: 96.49%\n",
      "Validation: 1.75%\n",
      "Test: 1.75%\n",
      "\n",
      "The distribution of labels in training data:\n",
      "\n",
      "entailment: 33.34%\n",
      "neutral: 33.22%\n",
      "contradiction: 33.3%\n",
      "\n",
      "------------------\n",
      "\n",
      "\n",
      "The split percentages of the datasets:\n",
      "\n",
      "Train: 96.16%\n",
      "Validation: 1.24%\n",
      "Test: 2.6%\n",
      "\n",
      "The distribution of labels in training data:\n",
      "\n",
      "negative: 44.22%\n",
      "positive: 55.78%\n",
      "\n",
      "------------------\n",
      "\n",
      "In this dataset, given a textual dialogue i.e. an utterance along with two previous turns of context, the goal was to infer the underlying emotion of the utterance by choosing from four emotion classes - Happy, Sad, Angry and Others.\n",
      "\n",
      "The split percentages of the datasets:\n",
      "\n",
      "Train: 84.56%\n",
      "Test: 15.44%\n",
      "\n",
      "The distribution of labels in training data:\n",
      "\n",
      "others: 49.56%\n",
      "happy: 14.07%\n",
      "sad: 18.11%\n",
      "angry: 18.26%\n",
      "\n",
      "------------------\n",
      "\n"
     ]
    }
   ],
   "source": [
    "# test with all datasets named in the exercise\n",
    "dataset_list = ['emotion', 'rotten_tomatoes', 'snli', 'sst2', 'emo']\n",
    "for set in dataset_list:\n",
    "    print_dataset_information(set)"
   ]
  },
  {
   "cell_type": "markdown",
   "metadata": {},
   "source": [
    "Training sets are always most of the data. This ensures a large enough training set as not as much testing and validation data is needed."
   ]
  }
 ],
 "metadata": {
  "kernelspec": {
   "display_name": "Python 3",
   "language": "python",
   "name": "python3"
  },
  "language_info": {
   "codemirror_mode": {
    "name": "ipython",
    "version": 3
   },
   "file_extension": ".py",
   "mimetype": "text/x-python",
   "name": "python",
   "nbconvert_exporter": "python",
   "pygments_lexer": "ipython3",
   "version": "3.10.2"
  }
 },
 "nbformat": 4,
 "nbformat_minor": 2
}
